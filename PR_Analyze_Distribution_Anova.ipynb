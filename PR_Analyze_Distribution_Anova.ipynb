{
 "cells": [
  {
   "cell_type": "code",
   "execution_count": 1,
   "metadata": {},
   "outputs": [],
   "source": [
    "import pandas as pd\n",
    "import numpy as np\n",
    "import matplotlib.pyplot as plt\n",
    "import seaborn as sns\n",
    "import plotly.graph_objects as go\n",
    "%matplotlib inline"
   ]
  },
  {
   "cell_type": "code",
   "execution_count": 2,
   "metadata": {},
   "outputs": [],
   "source": [
    "youtube = pd.read_csv('USvideos.csv')"
   ]
  },
  {
   "cell_type": "code",
   "execution_count": 3,
   "metadata": {},
   "outputs": [
    {
     "data": {
      "text/plain": [
       "<matplotlib.axes._subplots.AxesSubplot at 0x2012daecec8>"
      ]
     },
     "execution_count": 3,
     "metadata": {},
     "output_type": "execute_result"
    },
    {
     "data": {
      "image/png": "[encoded data removed]",
      "text/plain": [
       "<Figure size 432x288 with 1 Axes>"
      ]
     },
     "metadata": {
      "needs_background": "light"
     },
     "output_type": "display_data"
    }
   ],
   "source": [
    "sns.barplot(data=youtube, x ='category_id', y='views')"
   ]
  },
  {
   "cell_type": "markdown",
   "metadata": {},
   "source": [
    "\n",
    "# Question\n",
    "\n",
    "#### Saya pernah membaca bahwa Trend video juga tergantung kategori, jika kita barplot kan category 10 dan 29 memiliki mean yang tertinggi (walau mean dari 29 besar jaraknya) berarti mereka menarik banyak view. Tetapi apakah mereka berbeda secara view, like, dan dislikesnya?\n"
   ]
  },
  {
   "cell_type": "code",
   "execution_count": 4,
   "metadata": {},
   "outputs": [],
   "source": [
    "from scipy.stats import shapiro,normaltest, anderson\n",
    "def trynormal(data):\n",
    "    result={'Anderson':{i:j for i,j in zip(anderson(data)[2],anderson(data)[1])}, 'shapiro' : shapiro(data)[1],'k^2' : normaltest(data)[1]}\n",
    "    result['Anderson']['stat'] = anderson(data)[0]\n",
    "    return result"
   ]
  },
  {
   "cell_type": "code",
   "execution_count": 5,
   "metadata": {},
   "outputs": [
    {
     "name": "stderr",
     "output_type": "stream",
     "text": [
      "C:\\Users\\Sabam-Mr\\Anaconda3\\lib\\site-packages\\scipy\\stats\\morestats.py:1660: UserWarning:\n",
      "\n",
      "p-value may not be accurate for N > 5000.\n",
      "\n"
     ]
    },
    {
     "data": {
      "text/plain": [
       "{'Anderson': {15.0: 0.576,\n",
       "  10.0: 0.656,\n",
       "  5.0: 0.787,\n",
       "  2.5: 0.917,\n",
       "  1.0: 1.091,\n",
       "  'stat': 1059.63100476604},\n",
       " 'shapiro': 0.0,\n",
       " 'k^2': 0.0}"
      ]
     },
     "execution_count": 5,
     "metadata": {},
     "output_type": "execute_result"
    }
   ],
   "source": [
    "trynormal(youtube[(youtube['category_id'] == 10 )]['likes'])"
   ]
  },
  {
   "cell_type": "code",
   "execution_count": 6,
   "metadata": {},
   "outputs": [
    {
     "data": {
      "text/plain": [
       "{'Anderson': {15.0: 0.542,\n",
       "  10.0: 0.617,\n",
       "  5.0: 0.741,\n",
       "  2.5: 0.864,\n",
       "  1.0: 1.028,\n",
       "  'stat': 15.770348198612865},\n",
       " 'shapiro': 2.335269564529563e-13,\n",
       " 'k^2': 4.61018340359511e-08}"
      ]
     },
     "execution_count": 6,
     "metadata": {},
     "output_type": "execute_result"
    }
   ],
   "source": [
    "trynormal(youtube[(youtube['category_id'] == 29 )]['likes'])"
   ]
  },
  {
   "cell_type": "code",
   "execution_count": 7,
   "metadata": {},
   "outputs": [],
   "source": [
    "# Nilai Shapiro < Nilai alpha ( 5 %)\n",
    "# 2.335269564529563e-13 < 0.741\n",
    "# menandatakan data tidak berdistribusi normal"
   ]
  },
  {
   "cell_type": "code",
   "execution_count": 8,
   "metadata": {
    "scrolled": true
   },
   "outputs": [
    {
     "data": {
      "text/plain": [
       "{'Anderson': {15.0: 0.576,\n",
       "  10.0: 0.656,\n",
       "  5.0: 0.787,\n",
       "  2.5: 0.917,\n",
       "  1.0: 1.091,\n",
       "  'stat': 1398.5780660629043},\n",
       " 'shapiro': 0.0,\n",
       " 'k^2': 0.0}"
      ]
     },
     "execution_count": 8,
     "metadata": {},
     "output_type": "execute_result"
    }
   ],
   "source": [
    "trynormal(youtube[(youtube['category_id'] == 10 )]['dislikes'])"
   ]
  },
  {
   "cell_type": "code",
   "execution_count": 9,
   "metadata": {},
   "outputs": [],
   "source": [
    "# Nilai Shapiro < Nilai alpha ( 5 %)\n",
    "# 0.0 < 0.787\n",
    "# menandatakan data tidak berdistribusi normal"
   ]
  },
  {
   "cell_type": "code",
   "execution_count": 10,
   "metadata": {
    "scrolled": true
   },
   "outputs": [
    {
     "data": {
      "text/plain": [
       "{'Anderson': {15.0: 0.542,\n",
       "  10.0: 0.617,\n",
       "  5.0: 0.741,\n",
       "  2.5: 0.864,\n",
       "  1.0: 1.028,\n",
       "  'stat': 15.941865855475612},\n",
       " 'shapiro': 1.6795371788214802e-13,\n",
       " 'k^2': 5.222212259578384e-09}"
      ]
     },
     "execution_count": 10,
     "metadata": {},
     "output_type": "execute_result"
    }
   ],
   "source": [
    "trynormal(youtube[(youtube['category_id'] == 29 )]['dislikes'])"
   ]
  },
  {
   "cell_type": "code",
   "execution_count": 11,
   "metadata": {},
   "outputs": [],
   "source": [
    "# Nilai Shapiro < Nilai alpha ( 5 %)\n",
    "# 0.0 < 0.741\n",
    "# menandatakan data tidak berdistribusi normal"
   ]
  },
  {
   "cell_type": "code",
   "execution_count": 12,
   "metadata": {
    "scrolled": true
   },
   "outputs": [
    {
     "data": {
      "text/plain": [
       "{'Anderson': {15.0: 0.576,\n",
       "  10.0: 0.656,\n",
       "  5.0: 0.787,\n",
       "  2.5: 0.917,\n",
       "  1.0: 1.091,\n",
       "  'stat': 1190.1770512259227},\n",
       " 'shapiro': 0.0,\n",
       " 'k^2': 0.0}"
      ]
     },
     "execution_count": 12,
     "metadata": {},
     "output_type": "execute_result"
    }
   ],
   "source": [
    "trynormal(youtube[(youtube['category_id'] == 10 )]['views'])"
   ]
  },
  {
   "cell_type": "code",
   "execution_count": 13,
   "metadata": {},
   "outputs": [],
   "source": [
    "# Nilai Shapiro < Nilai alpha ( 5 %)\n",
    "# 0.0 < 0.787\n",
    "# menandatakan data tidak berdistribusi normal"
   ]
  },
  {
   "cell_type": "code",
   "execution_count": 14,
   "metadata": {},
   "outputs": [
    {
     "data": {
      "text/plain": [
       "{'Anderson': {15.0: 0.542,\n",
       "  10.0: 0.617,\n",
       "  5.0: 0.741,\n",
       "  2.5: 0.864,\n",
       "  1.0: 1.028,\n",
       "  'stat': 15.03917848327174},\n",
       " 'shapiro': 3.174725022800362e-13,\n",
       " 'k^2': 7.110325304841888e-09}"
      ]
     },
     "execution_count": 14,
     "metadata": {},
     "output_type": "execute_result"
    }
   ],
   "source": [
    "trynormal(youtube[(youtube['category_id'] == 29 )]['views'])"
   ]
  },
  {
   "cell_type": "code",
   "execution_count": 15,
   "metadata": {},
   "outputs": [
    {
     "name": "stdout",
     "output_type": "stream",
     "text": [
      "U-Statistic: 81875.0\n",
      "P-Value: 2.2471001015367116e-13\n"
     ]
    }
   ],
   "source": [
    "from scipy.stats import mannwhitneyu\n",
    "result = list(mannwhitneyu(youtube[youtube['category_id'] == 29]['likes'],\n",
    "                          youtube[youtube['category_id'] == 10]['likes']))\n",
    "print('U-Statistic:',result[0])\n",
    "print('P-Value:',result[1])"
   ]
  },
  {
   "cell_type": "code",
   "execution_count": 16,
   "metadata": {},
   "outputs": [],
   "source": [
    "# p value < 0,05 maka tolak hipotesis nol (H0).artinya terdapat perbedaan antara nilai category_id dan likes "
   ]
  },
  {
   "cell_type": "code",
   "execution_count": 17,
   "metadata": {},
   "outputs": [
    {
     "name": "stdout",
     "output_type": "stream",
     "text": [
      "U-Statistic: 91647.5\n",
      "P-Value: 2.876019645817286e-11\n"
     ]
    }
   ],
   "source": [
    "from scipy.stats import mannwhitneyu\n",
    "result = list(mannwhitneyu(youtube[youtube['category_id'] == 29]['dislikes'],\n",
    "                          youtube[youtube['category_id'] == 10]['dislikes']))\n",
    "print('U-Statistic:',result[0])\n",
    "print('P-Value:',result[1])"
   ]
  },
  {
   "cell_type": "code",
   "execution_count": 18,
   "metadata": {},
   "outputs": [],
   "source": [
    "# p value < 0,05 maka tolak hipotesis nol (H0).artinya terdapat perbedaan antara nilai category_id dan dislikes "
   ]
  },
  {
   "cell_type": "code",
   "execution_count": 19,
   "metadata": {},
   "outputs": [
    {
     "name": "stdout",
     "output_type": "stream",
     "text": [
      "U-Statistic: 78978.5\n",
      "P-Value: 4.876291818247057e-14\n"
     ]
    }
   ],
   "source": [
    "from scipy.stats import mannwhitneyu\n",
    "result = list(mannwhitneyu(youtube[youtube['category_id']== 29]['views'],\n",
    "                          youtube[youtube['category_id'] == 10]['views']))\n",
    "print('U-Statistic:',result[0])\n",
    "print('P-Value:',result[1])"
   ]
  },
  {
   "cell_type": "code",
   "execution_count": 20,
   "metadata": {},
   "outputs": [],
   "source": [
    "# p value < 0,05 maka tolak hipotesis nol (H0).artinya terdapat perbedaan antara nilai category_id dan views "
   ]
  },
  {
   "cell_type": "markdown",
   "metadata": {},
   "source": [
    "# Anova Test"
   ]
  },
  {
   "cell_type": "markdown",
   "metadata": {},
   "source": [
    "## Anova utk parametrik & Uji Equal Variance\n",
    "### Utk menguji 2 group mean atau lebih\n",
    "\n"
   ]
  },
  {
   "cell_type": "code",
   "execution_count": null,
   "metadata": {},
   "outputs": [],
   "source": [
    "# Asumsi Anova tidak ada perbeedan varians"
   ]
  },
  {
   "cell_type": "code",
   "execution_count": 25,
   "metadata": {},
   "outputs": [],
   "source": [
    "youtube_10 = youtube[(youtube['category_id'] == 10 )]\n",
    "youtube_29 = youtube[(youtube['category_id'] == 29 )]\n",
    "youtube_20 = youtube[(youtube['category_id'] == 20 )]"
   ]
  },
  {
   "cell_type": "code",
   "execution_count": 24,
   "metadata": {},
   "outputs": [
    {
     "data": {
      "text/plain": [
       "{'Bartlett': {'Bartlett-Stat': 42.17774401543469,\n",
       "  'P-Value': 8.334313062671943e-11},\n",
       " 'Levene': {'Levene-Stat': 1.8972437360796675, 'P-Value': 0.16843438710372255}}"
      ]
     },
     "execution_count": 24,
     "metadata": {},
     "output_type": "execute_result"
    }
   ],
   "source": [
    "from scipy.stats import levene, bartlett, f_oneway, kruskal\n",
    "\n",
    "def try_equal_var(x1,x2):\n",
    "    result = {'Bartlett':{'Bartlett-Stat': bartlett(x1,x2)[0],'P-Value': bartlett(x1,x2)[1]},\n",
    "             'Levene':{'Levene-Stat': levene(x1,x2)[0], 'P-Value': levene(x1,x2)[1]}}\n",
    "    return result\n",
    "try_equal_var(youtube_10['views'],youtube_29['views'])"
   ]
  },
  {
   "cell_type": "code",
   "execution_count": 26,
   "metadata": {},
   "outputs": [
    {
     "data": {
      "text/plain": [
       "F_onewayResult(statistic=22.988823625140867, pvalue=1.1148274978350597e-10)"
      ]
     },
     "execution_count": 26,
     "metadata": {},
     "output_type": "execute_result"
    }
   ],
   "source": [
    "f_oneway(youtube_10['views'], youtube_29['views'],youtube_20['views'])"
   ]
  },
  {
   "cell_type": "code",
   "execution_count": 30,
   "metadata": {},
   "outputs": [],
   "source": [
    "from pingouin import welch_anova"
   ]
  },
  {
   "cell_type": "code",
   "execution_count": 31,
   "metadata": {},
   "outputs": [
    {
     "data": {
      "text/html": [
       "<div>\n",
       "<style scoped>\n",
       "    .dataframe tbody tr th:only-of-type {\n",
       "        vertical-align: middle;\n",
       "    }\n",
       "\n",
       "    .dataframe tbody tr th {\n",
       "        vertical-align: top;\n",
       "    }\n",
       "\n",
       "    .dataframe thead th {\n",
       "        text-align: right;\n",
       "    }\n",
       "</style>\n",
       "<table border=\"1\" class=\"dataframe\">\n",
       "  <thead>\n",
       "    <tr style=\"text-align: right;\">\n",
       "      <th></th>\n",
       "      <th>Source</th>\n",
       "      <th>ddof1</th>\n",
       "      <th>ddof2</th>\n",
       "      <th>F</th>\n",
       "      <th>p-unc</th>\n",
       "    </tr>\n",
       "  </thead>\n",
       "  <tbody>\n",
       "    <tr>\n",
       "      <td>0</td>\n",
       "      <td>category_id</td>\n",
       "      <td>2</td>\n",
       "      <td>150.976</td>\n",
       "      <td>129.873</td>\n",
       "      <td>1.548307e-33</td>\n",
       "    </tr>\n",
       "  </tbody>\n",
       "</table>\n",
       "</div>"
      ],
      "text/plain": [
       "        Source  ddof1    ddof2        F         p-unc\n",
       "0  category_id      2  150.976  129.873  1.548307e-33"
      ]
     },
     "execution_count": 31,
     "metadata": {},
     "output_type": "execute_result"
    }
   ],
   "source": [
    "youtube_10_20_29 = youtube[(youtube['category_id'] == 10 ) | (youtube['category_id'] == 20 )|(youtube['category_id'] == 29 )]\n",
    "welch_anova(data=youtube_10_20_29, dv='views', between = 'category_id')"
   ]
  },
  {
   "cell_type": "code",
   "execution_count": 35,
   "metadata": {},
   "outputs": [],
   "source": [
    "from pingouin import pairwise_gameshowell, pairwise_tukey"
   ]
  },
  {
   "cell_type": "code",
   "execution_count": 33,
   "metadata": {},
   "outputs": [
    {
     "data": {
      "text/html": [
       "<div>\n",
       "<style scoped>\n",
       "    .dataframe tbody tr th:only-of-type {\n",
       "        vertical-align: middle;\n",
       "    }\n",
       "\n",
       "    .dataframe tbody tr th {\n",
       "        vertical-align: top;\n",
       "    }\n",
       "\n",
       "    .dataframe thead th {\n",
       "        text-align: right;\n",
       "    }\n",
       "</style>\n",
       "<table border=\"1\" class=\"dataframe\">\n",
       "  <thead>\n",
       "    <tr style=\"text-align: right;\">\n",
       "      <th></th>\n",
       "      <th>A</th>\n",
       "      <th>B</th>\n",
       "      <th>mean(A)</th>\n",
       "      <th>mean(B)</th>\n",
       "      <th>diff</th>\n",
       "      <th>se</th>\n",
       "      <th>tail</th>\n",
       "      <th>T</th>\n",
       "      <th>df</th>\n",
       "      <th>pval</th>\n",
       "      <th>hedges</th>\n",
       "    </tr>\n",
       "  </thead>\n",
       "  <tbody>\n",
       "    <tr>\n",
       "      <td>0</td>\n",
       "      <td>10</td>\n",
       "      <td>20</td>\n",
       "      <td>6201003.12</td>\n",
       "      <td>2620830.63</td>\n",
       "      <td>3580172.489</td>\n",
       "      <td>156832.668</td>\n",
       "      <td>two-sided</td>\n",
       "      <td>16.142</td>\n",
       "      <td>6125.549</td>\n",
       "      <td>0.001000</td>\n",
       "      <td>0.599</td>\n",
       "    </tr>\n",
       "    <tr>\n",
       "      <td>1</td>\n",
       "      <td>10</td>\n",
       "      <td>29</td>\n",
       "      <td>6201003.12</td>\n",
       "      <td>2963884.07</td>\n",
       "      <td>3237119.049</td>\n",
       "      <td>681572.891</td>\n",
       "      <td>two-sided</td>\n",
       "      <td>3.358</td>\n",
       "      <td>60.731</td>\n",
       "      <td>0.002461</td>\n",
       "      <td>0.447</td>\n",
       "    </tr>\n",
       "    <tr>\n",
       "      <td>2</td>\n",
       "      <td>20</td>\n",
       "      <td>29</td>\n",
       "      <td>2620830.63</td>\n",
       "      <td>2963884.07</td>\n",
       "      <td>-343053.440</td>\n",
       "      <td>672464.548</td>\n",
       "      <td>two-sided</td>\n",
       "      <td>-0.361</td>\n",
       "      <td>57.549</td>\n",
       "      <td>0.900000</td>\n",
       "      <td>-0.049</td>\n",
       "    </tr>\n",
       "  </tbody>\n",
       "</table>\n",
       "</div>"
      ],
      "text/plain": [
       "    A   B     mean(A)     mean(B)         diff          se       tail       T  \\\n",
       "0  10  20  6201003.12  2620830.63  3580172.489  156832.668  two-sided  16.142   \n",
       "1  10  29  6201003.12  2963884.07  3237119.049  681572.891  two-sided   3.358   \n",
       "2  20  29  2620830.63  2963884.07  -343053.440  672464.548  two-sided  -0.361   \n",
       "\n",
       "         df      pval  hedges  \n",
       "0  6125.549  0.001000   0.599  \n",
       "1    60.731  0.002461   0.447  \n",
       "2    57.549  0.900000  -0.049  "
      ]
     },
     "execution_count": 33,
     "metadata": {},
     "output_type": "execute_result"
    }
   ],
   "source": [
    "pairwise_gameshowell(data= youtube_10_20_29, dv='views', between='category_id')"
   ]
  },
  {
   "cell_type": "code",
   "execution_count": null,
   "metadata": {},
   "outputs": [],
   "source": [
    "# h0 yg diterima cuma 10 dan 20, krn p vall < 0.05\n",
    "# Digunakan jika data equal variance"
   ]
  },
  {
   "cell_type": "code",
   "execution_count": 36,
   "metadata": {},
   "outputs": [
    {
     "data": {
      "text/html": [
       "<div>\n",
       "<style scoped>\n",
       "    .dataframe tbody tr th:only-of-type {\n",
       "        vertical-align: middle;\n",
       "    }\n",
       "\n",
       "    .dataframe tbody tr th {\n",
       "        vertical-align: top;\n",
       "    }\n",
       "\n",
       "    .dataframe thead th {\n",
       "        text-align: right;\n",
       "    }\n",
       "</style>\n",
       "<table border=\"1\" class=\"dataframe\">\n",
       "  <thead>\n",
       "    <tr style=\"text-align: right;\">\n",
       "      <th></th>\n",
       "      <th>A</th>\n",
       "      <th>B</th>\n",
       "      <th>mean(A)</th>\n",
       "      <th>mean(B)</th>\n",
       "      <th>diff</th>\n",
       "      <th>se</th>\n",
       "      <th>tail</th>\n",
       "      <th>T</th>\n",
       "      <th>p-tukey</th>\n",
       "      <th>hedges</th>\n",
       "    </tr>\n",
       "  </thead>\n",
       "  <tbody>\n",
       "    <tr>\n",
       "      <td>0</td>\n",
       "      <td>10</td>\n",
       "      <td>20</td>\n",
       "      <td>6201003.12</td>\n",
       "      <td>2620830.63</td>\n",
       "      <td>3580172.489</td>\n",
       "      <td>540755.504</td>\n",
       "      <td>two-sided</td>\n",
       "      <td>6.621</td>\n",
       "      <td>0.001000</td>\n",
       "      <td>0.246</td>\n",
       "    </tr>\n",
       "    <tr>\n",
       "      <td>1</td>\n",
       "      <td>10</td>\n",
       "      <td>29</td>\n",
       "      <td>6201003.12</td>\n",
       "      <td>2963884.07</td>\n",
       "      <td>3237119.049</td>\n",
       "      <td>1937599.027</td>\n",
       "      <td>two-sided</td>\n",
       "      <td>1.671</td>\n",
       "      <td>0.216797</td>\n",
       "      <td>0.222</td>\n",
       "    </tr>\n",
       "    <tr>\n",
       "      <td>2</td>\n",
       "      <td>20</td>\n",
       "      <td>29</td>\n",
       "      <td>2620830.63</td>\n",
       "      <td>2963884.07</td>\n",
       "      <td>-343053.440</td>\n",
       "      <td>1995283.062</td>\n",
       "      <td>two-sided</td>\n",
       "      <td>-0.172</td>\n",
       "      <td>0.900000</td>\n",
       "      <td>-0.024</td>\n",
       "    </tr>\n",
       "  </tbody>\n",
       "</table>\n",
       "</div>"
      ],
      "text/plain": [
       "    A   B     mean(A)     mean(B)         diff           se       tail      T  \\\n",
       "0  10  20  6201003.12  2620830.63  3580172.489   540755.504  two-sided  6.621   \n",
       "1  10  29  6201003.12  2963884.07  3237119.049  1937599.027  two-sided  1.671   \n",
       "2  20  29  2620830.63  2963884.07  -343053.440  1995283.062  two-sided -0.172   \n",
       "\n",
       "    p-tukey  hedges  \n",
       "0  0.001000   0.246  \n",
       "1  0.216797   0.222  \n",
       "2  0.900000  -0.024  "
      ]
     },
     "execution_count": 36,
     "metadata": {},
     "output_type": "execute_result"
    }
   ],
   "source": [
    "pairwise_tukey(data= youtube_10_20_29, dv='views', between='category_id')"
   ]
  },
  {
   "cell_type": "code",
   "execution_count": 37,
   "metadata": {},
   "outputs": [],
   "source": [
    "# h0 yg ditolak 10 dan 29 , krn p-tukey > 0.05\n",
    "# Digunakan jika data tidak equal variance"
   ]
  },
  {
   "cell_type": "markdown",
   "metadata": {},
   "source": [
    "### Uji Non parametrik"
   ]
  },
  {
   "cell_type": "code",
   "execution_count": 38,
   "metadata": {},
   "outputs": [
    {
     "data": {
      "text/plain": [
       "KruskalResult(statistic=57.21993458049006, pvalue=3.757068198005064e-13)"
      ]
     },
     "execution_count": 38,
     "metadata": {},
     "output_type": "execute_result"
    }
   ],
   "source": [
    "# Utk membandingkan 3 atau lebih\n",
    "# ho adalah median kalau di kruskal, statistiknya berdasarkan rangking \n",
    "# \n",
    "kruskal(youtube_10['views'], youtube_29['views'], youtube_20['views'])"
   ]
  },
  {
   "cell_type": "code",
   "execution_count": null,
   "metadata": {},
   "outputs": [],
   "source": [
    "# populasi median tdk sama\n",
    "# nilai p value artinya ada perbedaaan"
   ]
  },
  {
   "cell_type": "code",
   "execution_count": 40,
   "metadata": {},
   "outputs": [],
   "source": [
    "from pingouin import pairwise_ttests"
   ]
  },
  {
   "cell_type": "code",
   "execution_count": 41,
   "metadata": {},
   "outputs": [
    {
     "data": {
      "text/html": [
       "<div>\n",
       "<style scoped>\n",
       "    .dataframe tbody tr th:only-of-type {\n",
       "        vertical-align: middle;\n",
       "    }\n",
       "\n",
       "    .dataframe tbody tr th {\n",
       "        vertical-align: top;\n",
       "    }\n",
       "\n",
       "    .dataframe thead th {\n",
       "        text-align: right;\n",
       "    }\n",
       "</style>\n",
       "<table border=\"1\" class=\"dataframe\">\n",
       "  <thead>\n",
       "    <tr style=\"text-align: right;\">\n",
       "      <th></th>\n",
       "      <th>Contrast</th>\n",
       "      <th>A</th>\n",
       "      <th>B</th>\n",
       "      <th>Paired</th>\n",
       "      <th>Parametric</th>\n",
       "      <th>U-val</th>\n",
       "      <th>Tail</th>\n",
       "      <th>p-unc</th>\n",
       "      <th>hedges</th>\n",
       "    </tr>\n",
       "  </thead>\n",
       "  <tbody>\n",
       "    <tr>\n",
       "      <td>0</td>\n",
       "      <td>category_id</td>\n",
       "      <td>10</td>\n",
       "      <td>20</td>\n",
       "      <td>False</td>\n",
       "      <td>False</td>\n",
       "      <td>2721072.5</td>\n",
       "      <td>two-sided</td>\n",
       "      <td>1.728277e-01</td>\n",
       "      <td>0.245</td>\n",
       "    </tr>\n",
       "    <tr>\n",
       "      <td>1</td>\n",
       "      <td>category_id</td>\n",
       "      <td>10</td>\n",
       "      <td>29</td>\n",
       "      <td>False</td>\n",
       "      <td>False</td>\n",
       "      <td>289925.5</td>\n",
       "      <td>two-sided</td>\n",
       "      <td>9.752584e-14</td>\n",
       "      <td>0.210</td>\n",
       "    </tr>\n",
       "    <tr>\n",
       "      <td>2</td>\n",
       "      <td>category_id</td>\n",
       "      <td>20</td>\n",
       "      <td>29</td>\n",
       "      <td>False</td>\n",
       "      <td>False</td>\n",
       "      <td>36507.5</td>\n",
       "      <td>two-sided</td>\n",
       "      <td>7.204730e-13</td>\n",
       "      <td>-0.096</td>\n",
       "    </tr>\n",
       "  </tbody>\n",
       "</table>\n",
       "</div>"
      ],
      "text/plain": [
       "      Contrast   A   B  Paired  Parametric      U-val       Tail  \\\n",
       "0  category_id  10  20   False       False  2721072.5  two-sided   \n",
       "1  category_id  10  29   False       False   289925.5  two-sided   \n",
       "2  category_id  20  29   False       False    36507.5  two-sided   \n",
       "\n",
       "          p-unc  hedges  \n",
       "0  1.728277e-01   0.245  \n",
       "1  9.752584e-14   0.210  \n",
       "2  7.204730e-13  -0.096  "
      ]
     },
     "execution_count": 41,
     "metadata": {},
     "output_type": "execute_result"
    }
   ],
   "source": [
    "pairwise_ttests(data=youtube_10_20_29, dv='views', between='category_id',parametric=False)"
   ]
  },
  {
   "cell_type": "code",
   "execution_count": null,
   "metadata": {},
   "outputs": [],
   "source": [
    "# Utk melihat perbedaannya, normalnya di paired. berarti 10 & 20 tdk berbeda karena p-unc = 0,17 > 0.05, ho di accept karena tdk ada perbedaan\n",
    "# kurkal mengasumsikan variance karena median\n",
    "# bisanya non parametik ga liat means\n",
    "# Perbandingannya pakai mann whitney\n",
    "# z Scrore adalah outlier/ data yg extrem\n",
    "# pakai z score utk merubah angka bukan distribusi"
   ]
  }
 ],
 "metadata": {
  "kernelspec": {
   "display_name": "Python 3",
   "language": "python",
   "name": "python3"
  },
  "language_info": {
   "codemirror_mode": {
    "name": "ipython",
    "version": 3
   },
   "file_extension": ".py",
   "mimetype": "text/x-python",
   "name": "python",
   "nbconvert_exporter": "python",
   "pygments_lexer": "ipython3",
   "version": "3.7.4"
  }
 },
 "nbformat": 4,
 "nbformat_minor": 2
}
